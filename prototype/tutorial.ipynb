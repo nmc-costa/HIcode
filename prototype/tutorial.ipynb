{
 "cells": [
  {
   "attachments": {},
   "cell_type": "markdown",
   "id": "a1b05f84",
   "metadata": {},
   "source": [
    "# Tutorial "
   ]
  },
  {
   "attachments": {},
   "cell_type": "markdown",
   "id": "feb31ab0",
   "metadata": {},
   "source": [
    "**Short Summary:** \n",
    "How to setup and run the example inside of this repo. \n",
    "\n",
    "**Author:** \n",
    "@nmc-costa\n",
    "\n",
    "**Project:** \n",
    "HIcode\n"
   ]
  },
  {
   "attachments": {},
   "cell_type": "markdown",
   "id": "69bb071a-730a-4d3e-a358-598c723d1644",
   "metadata": {
    "jp-MarkdownHeadingCollapsed": true,
    "tags": []
   },
   "source": [
    "# Setup"
   ]
  },
  {
   "cell_type": "code",
   "execution_count": 1,
   "id": "51f5ea3b-98f0-4268-93e3-f54f5e856cb2",
   "metadata": {},
   "outputs": [],
   "source": [
    "## INSTALL (comment/uncomment) ***\n",
    "#%conda create -n mobai python=3 jupyterlab -y\n",
    "#NOTE: add env kernel: 1.Go to terminal; 2. conda activate env; 3. python -m ipykernel install --user --name PROJECT --display-name \"PROJECT\"\n",
    "#%conda install matplotlib Ipython pandas dataprep -y\n",
    "\n",
    "#!cd MOBAI \n",
    "#!pip install -e . #NOTE: install inside of environment mobai ; # WARNING:It is highly recommended to use pip install . (regular install) and pip install -e . (developer install) to install packages, as invoking setup.py directly will do the wrong things for many dependencies, such as pull prereleases and incompatible package versions, or make the package hard to uninstall with pip."
   ]
  },
  {
   "attachments": {},
   "cell_type": "markdown",
   "id": "6312badd-2a56-450c-8fcd-a5925473c56a",
   "metadata": {
    "jp-MarkdownHeadingCollapsed": true,
    "tags": []
   },
   "source": [
    "# Imports"
   ]
  },
  {
   "cell_type": "code",
   "execution_count": 12,
   "id": "99de5b59",
   "metadata": {},
   "outputs": [],
   "source": [
    "#Magic for module reloading before starting : https://ipython.readthedocs.io/en/stable/config/extensions/autoreload.html\n",
    "%reload_ext autoreload\n",
    "%autoreload 2"
   ]
  },
  {
   "cell_type": "code",
   "execution_count": 13,
   "id": "fe38420e",
   "metadata": {},
   "outputs": [],
   "source": [
    "%matplotlib inline\n",
    "\n",
    "# system\n",
    "from pathlib import Path\n",
    "import platform\n",
    "import sys\n",
    "\n",
    "# package imports\n",
    "import prototype.utils as u\n",
    "import prototype.preprocessing as pp\n",
    "\n",
    "# pipelines\n",
    "import prototype.pipelines.p0_profiling.e1_pipe as p0_profiling"
   ]
  },
  {
   "attachments": {},
   "cell_type": "markdown",
   "id": "33349f67",
   "metadata": {},
   "source": [
    "# Configs \n"
   ]
  },
  {
   "cell_type": "code",
   "execution_count": 14,
   "id": "ee7c28b2",
   "metadata": {},
   "outputs": [],
   "source": [
    "#initial configuration parameters\n",
    "init_config = {\n",
    "    \"rdir\": Path('/prototype'),#root package directory\n",
    "    \"ddir\": Path('/prototype/data_sample'), #dataset directory\n",
    "    \"dataset\": \"data.csv\", #dataset name \n",
    "    \"outdir\": Path('/prototype') #output directory\n",
    "}\n",
    "#display(init_config)\n",
    "#save_config(init_config, \"init_config.json\")"
   ]
  },
  {
   "attachments": {},
   "cell_type": "markdown",
   "id": "db7bfe00",
   "metadata": {},
   "source": [
    "### DIRs&Checks"
   ]
  },
  {
   "cell_type": "code",
   "execution_count": null,
   "id": "457e6594",
   "metadata": {},
   "outputs": [],
   "source": [
    "#Define root dir dependent on OS\n",
    "cdir=Path.cwd() # WARNING: Path.cwd() to get current file dir will not work in python script\n",
    "rdir=init_config[\"rdir\"]\n",
    "dataset=init_config[\"dataset\"]\n",
    "ddir=init_config[\"ddir\"]\n",
    "outdir=init_config[\"outdir\"]\n",
    "if str(platform.platform()).find('Linux')>-1: #if using windows and linux one can change paths\n",
    "    rdir=rdir \n",
    "    outdir=outdir\n",
    "print(f'OS: {platform.platform()}')\n",
    "print(f'current dir: {cdir}')\n",
    "print(f'package root dir: {rdir}')\n",
    "print(f'dataset dir: {ddir}')\n",
    "print(f'output dir: {outdir}')\n",
    "print(f'cuda is available: {torch.cuda.is_available()}')"
   ]
  },
  {
   "attachments": {},
   "cell_type": "markdown",
   "id": "f5cd7c0d-b476-4931-a2fd-f7c0c695b421",
   "metadata": {
    "tags": []
   },
   "source": [
    "# Single case study (one data file)"
   ]
  },
  {
   "attachments": {},
   "cell_type": "markdown",
   "id": "d1c59af0",
   "metadata": {},
   "source": [
    "## Example:  Dataset Ingestion and profiling"
   ]
  },
  {
   "cell_type": "code",
   "execution_count": null,
   "id": "84f54ce3",
   "metadata": {},
   "outputs": [],
   "source": [
    "p0_profiling.pipeline(\n",
    "        rdir / \"pipelines/p0_profiling\" / 'config_prep.json',\n",
    "        rdir / \"pipelines/p0_profiling\" / 'dataContract.json',\n",
    "    )"
   ]
  }
 ],
 "metadata": {
  "kernelspec": {
   "display_name": "mobai",
   "language": "python",
   "name": "python3"
  },
  "language_info": {
   "codemirror_mode": {
    "name": "ipython",
    "version": 3
   },
   "file_extension": ".py",
   "mimetype": "text/x-python",
   "name": "python",
   "nbconvert_exporter": "python",
   "pygments_lexer": "ipython3",
   "version": "3.10.4"
  },
  "vscode": {
   "interpreter": {
    "hash": "4ddd919721f3cdbd5d98c9c71d5c1c39c55215bbe24962abdd4bc73fd8fcb994"
   }
  }
 },
 "nbformat": 4,
 "nbformat_minor": 5
}
